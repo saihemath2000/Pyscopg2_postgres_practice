{
 "cells": [
  {
   "cell_type": "code",
   "execution_count": 1,
   "id": "2979d72c-440c-4907-b6a7-c8b2d51c1c86",
   "metadata": {},
   "outputs": [],
   "source": [
    "import psycopg2\n",
    "import json\n",
    "from tabulate import tabulate\n",
    "# from shapely import wkt\n",
    "# from shapely.geometry import shape as shapely_shape\n",
    "import pandas as pd\n",
    "import time\n",
    "from psycopg2.extras import execute_batch"
   ]
  },
  {
   "cell_type": "code",
   "execution_count": 2,
   "id": "1c078e29-01cb-4ac5-af59-f6f6e2385d0a",
   "metadata": {},
   "outputs": [],
   "source": [
    "start_time = time.time()"
   ]
  },
  {
   "cell_type": "code",
   "execution_count": 3,
   "id": "36183ba6-c897-438f-a5f6-512ceb63a1f2",
   "metadata": {},
   "outputs": [
    {
     "name": "stdout",
     "output_type": "stream",
     "text": [
      "Database connected successfully\n"
     ]
    }
   ],
   "source": [
    "DB_NAME = \"next_gen\"\n",
    "DB_USER = \"sde\"\n",
    "DB_PASS = \"sde\"\n",
    "DB_HOST = \"salesiqgen2.cygagau4oro0.us-west-2.rds.amazonaws.com\"\n",
    "DB_PORT = \"5432\"\n",
    "\n",
    "try:\n",
    "\tconn = psycopg2.connect(database=DB_NAME,\n",
    "\t\t\t\t\t\t\tuser=DB_USER,\n",
    "\t\t\t\t\t\t\tpassword=DB_PASS,\n",
    "\t\t\t\t\t\t\thost=DB_HOST,\n",
    "\t\t\t\t\t\t\tport=DB_PORT)\n",
    "\tprint(\"Database connected successfully\")\n",
    "except:\n",
    "\tprint(\"Database not connected successfully\")\n"
   ]
  },
  {
   "cell_type": "code",
   "execution_count": 4,
   "id": "2b2de85f-dd48-49dd-9431-2d309376d418",
   "metadata": {},
   "outputs": [],
   "source": [
    "cur = conn.cursor()"
   ]
  },
  {
   "cell_type": "markdown",
   "id": "02d57e53-617b-41c8-9e46-92d1edefffca",
   "metadata": {},
   "source": [
    "## Calculating max_level"
   ]
  },
  {
   "cell_type": "code",
   "execution_count": 5,
   "id": "02500a96-7ae8-4380-b646-69c5fcb6c6bc",
   "metadata": {},
   "outputs": [],
   "source": [
    "def find_max_level(cur):\n",
    "    max_level = 0\n",
    "    level = 1\n",
    "    while True:\n",
    "        code_column = f\"level{level}_code\"\n",
    "        cur.execute(f\"SELECT COUNT(*) FROM qa_mergetest5_position_geo_temp WHERE {code_column} IS NOT NULL\")\n",
    "        count = cur.fetchone()[0]\n",
    "        if count == 0:\n",
    "            break\n",
    "        max_level = level\n",
    "        level += 1\n",
    "    return max_level\n",
    "\n",
    "max_level = find_max_level(cur)\n",
    "# print(f\"Max level with data: {max_level}\")"
   ]
  },
  {
   "cell_type": "markdown",
   "id": "cd6fcf59-7535-445c-ab32-ab86c4ac1626",
   "metadata": {},
   "source": [
    "## Fetching different metrics of metric data separately"
   ]
  },
  {
   "cell_type": "code",
   "execution_count": 6,
   "id": "69f8196e-64af-4898-b08f-df9615b3b2b7",
   "metadata": {},
   "outputs": [],
   "source": [
    "# Fetch distinct metric keys present in the JSON data\n",
    "cur.execute(\"\"\"\n",
    "    SELECT DISTINCT jsonb_object_keys(CAST(metric_data AS jsonb)) AS metric_key\n",
    "    FROM qa_mergetest5_position_geo_temp\n",
    "\"\"\")\n",
    "metric_keys = [row[0] for row in cur.fetchall()]"
   ]
  },
  {
   "cell_type": "code",
   "execution_count": 7,
   "id": "a9f70be6-23e1-476f-ae71-a0b3f6ef14e3",
   "metadata": {},
   "outputs": [],
   "source": [
    "metric_data_items = ', '.join([f\"'{metric_key}', SUM(COALESCE((metric_data::jsonb->>'{metric_key}')::float, 0))\" for metric_key in metric_keys])"
   ]
  },
  {
   "cell_type": "markdown",
   "id": "fa2ac719-c8d3-4f1e-a72d-b4569374f00a",
   "metadata": {},
   "source": [
    "## Insert into table"
   ]
  },
  {
   "cell_type": "code",
   "execution_count": 8,
   "id": "1979cb45-27f0-4469-8d71-290d5b7cf28e",
   "metadata": {},
   "outputs": [],
   "source": [
    "try:\n",
    "    cur = conn.cursor()\n",
    "    query_parts = []\n",
    "    for level in range(1, max_level + 1):\n",
    "        code_column = f\"level{level}_code\"\n",
    "        code_name = f\"level{level}_name\"\n",
    "        query_parts.append(f\"\"\"\n",
    "            SELECT \n",
    "                {code_column} AS code,\n",
    "                {code_name} AS name,\n",
    "                {level} AS level, \n",
    "                jsonb_build_object(\n",
    "                    {metric_data_items}\n",
    "                ) AS metric_data\n",
    "            FROM qa_mergetest5_position_geo_temp\n",
    "            GROUP BY {code_column}, {code_name}\n",
    "        \"\"\")\n",
    "\n",
    "    combined_query = \" UNION ALL \".join(query_parts)\n",
    "\n",
    "    cur.execute(combined_query)\n",
    "    results = cur.fetchall()\n",
    "\n",
    "    columns = [\"code\", \"name\", \"level\", \"metric_data\"]\n",
    "    df = pd.DataFrame(results, columns=columns)\n",
    "\n",
    "    df[\"metric_data\"] = df[\"metric_data\"].apply(lambda x: json.dumps(x) if x is not None else None)\n",
    "\n",
    "    # Convert DataFrame to list of tuples\n",
    "    records = df.to_records(index=False)\n",
    "    records_list = [(r[0], r[1], int(r[2]), r[3]) for r in records]\n",
    "\n",
    "    # Define the insert query\n",
    "    insert_query = \"\"\"\n",
    "        INSERT INTO hg_positions (code, name, level, metric_data)\n",
    "        VALUES (%s, %s, %s, %s)\n",
    "    \"\"\"\n",
    "\n",
    "    # Bulk insert using execute_values\n",
    "    execute_batch(cur, insert_query, records_list)\n",
    "\n",
    "    # Commit the transaction\n",
    "    conn.commit()\n",
    "\n",
    "except Exception as e:\n",
    "    print(f\"An error occurred: {e}\")\n",
    "\n",
    "finally:\n",
    "    # Close the cursor and the connection\n",
    "    cur.close()\n",
    "    conn.close()"
   ]
  },
  {
   "cell_type": "code",
   "execution_count": 9,
   "id": "f8c25dc7-8e42-4dba-8d40-63feda931a58",
   "metadata": {},
   "outputs": [],
   "source": [
    "end_time = time.time()"
   ]
  },
  {
   "cell_type": "code",
   "execution_count": 10,
   "id": "4a9ff114-7ae7-487f-afca-c7d6802b7061",
   "metadata": {},
   "outputs": [
    {
     "name": "stdout",
     "output_type": "stream",
     "text": [
      "Script completed in 8.15 seconds\n"
     ]
    }
   ],
   "source": [
    "elapsed_time = end_time - start_time\n",
    "print(f\"Script completed in {elapsed_time:.2f} seconds\")"
   ]
  }
 ],
 "metadata": {
  "kernelspec": {
   "display_name": "Python 3 (ipykernel)",
   "language": "python",
   "name": "python3"
  },
  "language_info": {
   "codemirror_mode": {
    "name": "ipython",
    "version": 3
   },
   "file_extension": ".py",
   "mimetype": "text/x-python",
   "name": "python",
   "nbconvert_exporter": "python",
   "pygments_lexer": "ipython3",
   "version": "3.11.7"
  }
 },
 "nbformat": 4,
 "nbformat_minor": 5
}
