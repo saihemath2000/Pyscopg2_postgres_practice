{
 "cells": [
  {
   "cell_type": "code",
   "execution_count": 2,
   "id": "b0b04ca5-342c-43ae-b1ee-4c4148cbb56d",
   "metadata": {},
   "outputs": [
    {
     "name": "stdout",
     "output_type": "stream",
     "text": [
      "Requirement already satisfied: matplotlib in c:\\users\\a7711\\appdata\\local\\anaconda3\\envs\\pandasenv\\lib\\site-packages (3.9.0)\n",
      "Requirement already satisfied: contourpy>=1.0.1 in c:\\users\\a7711\\appdata\\local\\anaconda3\\envs\\pandasenv\\lib\\site-packages (from matplotlib) (1.2.1)\n",
      "Requirement already satisfied: cycler>=0.10 in c:\\users\\a7711\\appdata\\local\\anaconda3\\envs\\pandasenv\\lib\\site-packages (from matplotlib) (0.12.1)\n",
      "Requirement already satisfied: fonttools>=4.22.0 in c:\\users\\a7711\\appdata\\local\\anaconda3\\envs\\pandasenv\\lib\\site-packages (from matplotlib) (4.51.0)\n",
      "Requirement already satisfied: kiwisolver>=1.3.1 in c:\\users\\a7711\\appdata\\local\\anaconda3\\envs\\pandasenv\\lib\\site-packages (from matplotlib) (1.4.5)\n",
      "Requirement already satisfied: numpy>=1.23 in c:\\users\\a7711\\appdata\\local\\anaconda3\\envs\\pandasenv\\lib\\site-packages (from matplotlib) (1.26.4)\n",
      "Requirement already satisfied: packaging>=20.0 in c:\\users\\a7711\\appdata\\local\\anaconda3\\envs\\pandasenv\\lib\\site-packages (from matplotlib) (23.2)\n",
      "Requirement already satisfied: pillow>=8 in c:\\users\\a7711\\appdata\\local\\anaconda3\\envs\\pandasenv\\lib\\site-packages (from matplotlib) (10.3.0)\n",
      "Requirement already satisfied: pyparsing>=2.3.1 in c:\\users\\a7711\\appdata\\local\\anaconda3\\envs\\pandasenv\\lib\\site-packages (from matplotlib) (3.1.2)\n",
      "Requirement already satisfied: python-dateutil>=2.7 in c:\\users\\a7711\\appdata\\local\\anaconda3\\envs\\pandasenv\\lib\\site-packages (from matplotlib) (2.8.2)\n",
      "Requirement already satisfied: six>=1.5 in c:\\users\\a7711\\appdata\\local\\anaconda3\\envs\\pandasenv\\lib\\site-packages (from python-dateutil>=2.7->matplotlib) (1.16.0)\n",
      "Note: you may need to restart the kernel to use updated packages.\n"
     ]
    }
   ],
   "source": [
    "pip install matplotlib"
   ]
  },
  {
   "cell_type": "code",
   "execution_count": 6,
   "id": "8742765d-1111-4ff3-97c9-9d916aadf5a5",
   "metadata": {},
   "outputs": [],
   "source": [
    "import numpy as np"
   ]
  },
  {
   "cell_type": "code",
   "execution_count": 14,
   "id": "6c2db58a-b570-4222-8100-0c3399577aef",
   "metadata": {},
   "outputs": [
    {
     "name": "stdout",
     "output_type": "stream",
     "text": [
      "3\n",
      "[1 2 3 3 5]\n"
     ]
    },
    {
     "data": {
      "text/plain": [
       "2"
      ]
     },
     "execution_count": 14,
     "metadata": {},
     "output_type": "execute_result"
    }
   ],
   "source": [
    "x= np.array([1,2,3,4,5])\n",
    "x= np.array([[1,2,3,4,5],[1,2,3,3,5]])\n",
    "print(x[0,2]) #1st row 3rd col\n",
    "print(x[1,0:])  #slicing numpy\n",
    "x.ndim"
   ]
  },
  {
   "cell_type": "markdown",
   "id": "e4f14b90-51d7-4714-920b-4f043baa38f1",
   "metadata": {},
   "source": [
    "## change datatype from float to int, reshape and flatten"
   ]
  },
  {
   "cell_type": "code",
   "execution_count": 15,
   "id": "5f73bfee-8add-44cd-ad3f-b7c902ee92b9",
   "metadata": {},
   "outputs": [
    {
     "name": "stdout",
     "output_type": "stream",
     "text": [
      "[1 2 3]\n",
      "int32\n"
     ]
    }
   ],
   "source": [
    "arr = np.array([1.1, 2.1, 3.1])\n",
    "\n",
    "newarr = arr.astype('i')\n",
    "\n",
    "print(newarr)\n",
    "print(newarr.dtype)"
   ]
  },
  {
   "cell_type": "code",
   "execution_count": 16,
   "id": "6cba4a2f-14ab-4298-9184-57b6ffa35352",
   "metadata": {},
   "outputs": [
    {
     "data": {
      "text/plain": [
       "(3,)"
      ]
     },
     "execution_count": 16,
     "metadata": {},
     "output_type": "execute_result"
    }
   ],
   "source": [
    "arr.shape"
   ]
  },
  {
   "cell_type": "code",
   "execution_count": 17,
   "id": "1b681cef-71d2-459a-9cc0-af95b822dd2d",
   "metadata": {},
   "outputs": [
    {
     "name": "stdout",
     "output_type": "stream",
     "text": [
      "[[ 1  2  3]\n",
      " [ 4  5  6]\n",
      " [ 7  8  9]\n",
      " [10 11 12]]\n"
     ]
    }
   ],
   "source": [
    "#1D to 2D\n",
    "arr = np.array([1, 2, 3, 4, 5, 6, 7, 8, 9, 10, 11, 12])\n",
    "\n",
    "newarr = arr.reshape(4, 3)\n",
    "\n",
    "print(newarr)"
   ]
  },
  {
   "cell_type": "code",
   "execution_count": 18,
   "id": "91101e83-f6bc-40a7-9bb4-b442f27fe625",
   "metadata": {},
   "outputs": [
    {
     "name": "stdout",
     "output_type": "stream",
     "text": [
      "[[[ 1  2]\n",
      "  [ 3  4]\n",
      "  [ 5  6]]\n",
      "\n",
      " [[ 7  8]\n",
      "  [ 9 10]\n",
      "  [11 12]]]\n"
     ]
    }
   ],
   "source": [
    "#1D to 3D\n",
    "arr = np.array([1, 2, 3, 4, 5, 6, 7, 8, 9, 10, 11, 12])\n",
    "\n",
    "newarr = arr.reshape(2, 3, 2)\n",
    "\n",
    "print(newarr)"
   ]
  },
  {
   "cell_type": "code",
   "execution_count": 20,
   "id": "49e5ffd0-b69a-45a0-a4c1-29f9151e7622",
   "metadata": {},
   "outputs": [
    {
     "data": {
      "text/plain": [
       "array([1, 2, 3, 4, 5, 6])"
      ]
     },
     "execution_count": 20,
     "metadata": {},
     "output_type": "execute_result"
    }
   ],
   "source": [
    "#Flattening array means converting a multidimensional array into a 1D array.\n",
    "arr= np.array([[1,2,3],[4,5,6]])\n",
    "arr = arr.reshape(-1)\n",
    "arr"
   ]
  },
  {
   "cell_type": "code",
   "execution_count": 1,
   "id": "b6c99a22-0924-43c9-8ef7-84deb76a97c5",
   "metadata": {},
   "outputs": [],
   "source": [
    "#refer dstack, vstack and hstack, stack, array_split"
   ]
  },
  {
   "cell_type": "code",
   "execution_count": 3,
   "id": "6895c14d-e921-42f3-83f8-a47620740e7f",
   "metadata": {},
   "outputs": [
    {
     "name": "stdout",
     "output_type": "stream",
     "text": [
      "[False False  True  True]\n",
      "[43 44]\n"
     ]
    }
   ],
   "source": [
    "arr = np.array([41, 42, 43, 44])\n",
    "\n",
    "filter_arr = arr > 42\n",
    "\n",
    "newarr = arr[filter_arr]\n",
    "\n",
    "print(filter_arr)\n",
    "print(newarr)"
   ]
  },
  {
   "cell_type": "code",
   "execution_count": 4,
   "id": "e4e9f8bc-8bcc-4631-94ab-378d9a1bee29",
   "metadata": {},
   "outputs": [
    {
     "data": {
      "text/plain": [
       "42.5"
      ]
     },
     "execution_count": 4,
     "metadata": {},
     "output_type": "execute_result"
    }
   ],
   "source": [
    "np.mean(arr)"
   ]
  },
  {
   "cell_type": "markdown",
   "id": "c6c972fc-8280-4e80-8277-c342967243ac",
   "metadata": {},
   "source": [
    "## Data distribution"
   ]
  },
  {
   "cell_type": "code",
   "execution_count": 7,
   "id": "541e1ce5-9d5f-4708-87e9-a3a3d49d91ab",
   "metadata": {},
   "outputs": [],
   "source": [
    "dd = np.random.uniform(0,5.0,200)"
   ]
  },
  {
   "cell_type": "code",
   "execution_count": 8,
   "id": "dbf104f0-5fb2-4259-8e44-d537e4d806dc",
   "metadata": {},
   "outputs": [
    {
     "data": {
      "text/plain": [
       "(array([2., 4., 4., 4., 1., 2., 4., 2., 1., 6., 3., 3., 8., 1., 2., 4., 3.,\n",
       "        1., 6., 3., 4., 2., 2., 6., 1., 3., 8., 3., 4., 3., 2., 7., 5., 2.,\n",
       "        6., 2., 6., 4., 8., 2., 2., 7., 8., 7., 5., 6., 1., 7., 6., 7.]),\n",
       " array([0.0616166 , 0.16006633, 0.25851607, 0.3569658 , 0.45541554,\n",
       "        0.55386528, 0.65231501, 0.75076475, 0.84921448, 0.94766422,\n",
       "        1.04611396, 1.14456369, 1.24301343, 1.34146317, 1.4399129 ,\n",
       "        1.53836264, 1.63681237, 1.73526211, 1.83371185, 1.93216158,\n",
       "        2.03061132, 2.12906105, 2.22751079, 2.32596053, 2.42441026,\n",
       "        2.52286   , 2.62130973, 2.71975947, 2.81820921, 2.91665894,\n",
       "        3.01510868, 3.11355841, 3.21200815, 3.31045789, 3.40890762,\n",
       "        3.50735736, 3.60580709, 3.70425683, 3.80270657, 3.9011563 ,\n",
       "        3.99960604, 4.09805577, 4.19650551, 4.29495525, 4.39340498,\n",
       "        4.49185472, 4.59030445, 4.68875419, 4.78720393, 4.88565366,\n",
       "        4.9841034 ]),\n",
       " <BarContainer object of 50 artists>)"
      ]
     },
     "execution_count": 8,
     "metadata": {},
     "output_type": "execute_result"
    },
    {
     "data": {
      "image/png": "[encoded data removed]",
      "text/plain": [
       "<Figure size 640x480 with 1 Axes>"
      ]
     },
     "metadata": {},
     "output_type": "display_data"
    }
   ],
   "source": [
    "import matplotlib.pyplot as plt\n",
    "plt.hist(dd,50)"
   ]
  },
  {
   "cell_type": "code",
   "execution_count": 9,
   "id": "a11741bf-13c4-4ea8-a1bc-643de93fc86f",
   "metadata": {},
   "outputs": [
    {
     "data": {
      "text/plain": [
       "(array([  1.,   0.,   1.,   1.,   0.,   1.,   2.,   0.,   1.,   0.,   4.,\n",
       "          2.,   7.,   5.,  13.,   8.,   6.,  20.,  14.,  20.,  16.,  20.,\n",
       "         33.,  28.,  46.,  36.,  48.,  52.,  68.,  88.,  78., 111.,  91.,\n",
       "        117., 120., 150., 154., 159., 173., 194., 206., 214., 237., 255.,\n",
       "        261., 265., 266., 278., 277., 320., 303., 334., 314., 265., 286.,\n",
       "        279., 287., 268., 287., 253., 245., 206., 187., 202., 176., 160.,\n",
       "        165., 146., 155., 127.,  94., 112.,  97.,  74.,  69.,  61.,  65.,\n",
       "         54.,  46.,  32.,  33.,  18.,  25.,  24.,  21.,  10.,  11.,  10.,\n",
       "          5.,   5.,   5.,   2.,   3.,   4.,   2.,   2.,   0.,   1.,   1.,\n",
       "          2.]),\n",
       " array([-190.89019238, -187.19067053, -183.49114868, -179.79162683,\n",
       "        -176.09210497, -172.39258312, -168.69306127, -164.99353942,\n",
       "        -161.29401757, -157.59449572, -153.89497387, -150.19545202,\n",
       "        -146.49593016, -142.79640831, -139.09688646, -135.39736461,\n",
       "        -131.69784276, -127.99832091, -124.29879906, -120.5992772 ,\n",
       "        -116.89975535, -113.2002335 , -109.50071165, -105.8011898 ,\n",
       "        -102.10166795,  -98.4021461 ,  -94.70262424,  -91.00310239,\n",
       "         -87.30358054,  -83.60405869,  -79.90453684,  -76.20501499,\n",
       "         -72.50549314,  -68.80597128,  -65.10644943,  -61.40692758,\n",
       "         -57.70740573,  -54.00788388,  -50.30836203,  -46.60884018,\n",
       "         -42.90931833,  -39.20979647,  -35.51027462,  -31.81075277,\n",
       "         -28.11123092,  -24.41170907,  -20.71218722,  -17.01266537,\n",
       "         -13.31314351,   -9.61362166,   -5.91409981,   -2.21457796,\n",
       "           1.48494389,    5.18446574,    8.88398759,   12.58350945,\n",
       "          16.2830313 ,   19.98255315,   23.682075  ,   27.38159685,\n",
       "          31.0811187 ,   34.78064055,   38.48016241,   42.17968426,\n",
       "          45.87920611,   49.57872796,   53.27824981,   56.97777166,\n",
       "          60.67729351,   64.37681536,   68.07633722,   71.77585907,\n",
       "          75.47538092,   79.17490277,   82.87442462,   86.57394647,\n",
       "          90.27346832,   93.97299018,   97.67251203,  101.37203388,\n",
       "         105.07155573,  108.77107758,  112.47059943,  116.17012128,\n",
       "         119.86964314,  123.56916499,  127.26868684,  130.96820869,\n",
       "         134.66773054,  138.36725239,  142.06677424,  145.7662961 ,\n",
       "         149.46581795,  153.1653398 ,  156.86486165,  160.5643835 ,\n",
       "         164.26390535,  167.9634272 ,  171.66294905,  175.36247091,\n",
       "         179.06199276]),\n",
       " <BarContainer object of 100 artists>)"
      ]
     },
     "execution_count": 9,
     "metadata": {},
     "output_type": "execute_result"
    },
    {
     "data": {
      "image/png": "[encoded data removed]",
      "text/plain": [
       "<Figure size 640x480 with 1 Axes>"
      ]
     },
     "metadata": {},
     "output_type": "display_data"
    }
   ],
   "source": [
    "nm= np.random.normal(0,50,10000) #mean,std\n",
    "plt.hist(nm,100)"
   ]
  },
  {
   "cell_type": "code",
   "execution_count": 11,
   "id": "019a9111-2d14-4e7b-9b5b-755267310fc9",
   "metadata": {},
   "outputs": [
    {
     "data": {
      "image/png": "[encoded data removed]",
      "text/plain": [
       "<Figure size 640x480 with 1 Axes>"
      ]
     },
     "metadata": {},
     "output_type": "display_data"
    }
   ],
   "source": [
    "x = np.random.normal(5.0, 1.0, 1000)\n",
    "y = np.random.normal(10.0, 2.0, 1000)\n",
    "\n",
    "plt.scatter(x, y)\n",
    "plt.show()"
   ]
  },
  {
   "cell_type": "code",
   "execution_count": null,
   "id": "39d0f991-9a47-4452-bec0-159fb9c0ef67",
   "metadata": {},
   "outputs": [],
   "source": []
  }
 ],
 "metadata": {
  "kernelspec": {
   "display_name": "Python 3 (ipykernel)",
   "language": "python",
   "name": "python3"
  },
  "language_info": {
   "codemirror_mode": {
    "name": "ipython",
    "version": 3
   },
   "file_extension": ".py",
   "mimetype": "text/x-python",
   "name": "python",
   "nbconvert_exporter": "python",
   "pygments_lexer": "ipython3",
   "version": "3.12.3"
  }
 },
 "nbformat": 4,
 "nbformat_minor": 5
}
