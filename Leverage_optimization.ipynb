{
 "cells": [
  {
   "cell_type": "code",
   "execution_count": 1,
   "id": "eda631f3-971c-4629-b7ad-5591d0d3c57a",
   "metadata": {},
   "outputs": [],
   "source": [
    "import psycopg2\n",
    "import json\n",
    "import pandas as pd\n",
    "import time\n",
    "from psycopg2.extras import execute_batch"
   ]
  },
  {
   "cell_type": "code",
   "execution_count": 2,
   "id": "cc041f24-6bbc-4d1a-b2c5-187e5e24771f",
   "metadata": {},
   "outputs": [],
   "source": [
    "start_time = time.time()"
   ]
  },
  {
   "cell_type": "code",
   "execution_count": 3,
   "id": "191d465c-5e69-4f7d-9f8b-0db5bc9316fd",
   "metadata": {},
   "outputs": [],
   "source": [
    "DB_NAME = \"next_gen\"\n",
    "DB_USER = \"sde\"\n",
    "DB_PASS = \"sde\"\n",
    "DB_HOST = \"salesiqgen2.cygagau4oro0.us-west-2.rds.amazonaws.com\"\n",
    "DB_PORT = \"5432\""
   ]
  },
  {
   "cell_type": "code",
   "execution_count": 4,
   "id": "e4a40e3c-8077-4cb7-a16e-a95a61e97815",
   "metadata": {},
   "outputs": [
    {
     "name": "stdout",
     "output_type": "stream",
     "text": [
      "Database connected successfully\n"
     ]
    }
   ],
   "source": [
    "try:\n",
    "    conn = psycopg2.connect(database=DB_NAME,\n",
    "                            user=DB_USER,\n",
    "                            password=DB_PASS,\n",
    "                            host=DB_HOST,\n",
    "                            port=DB_PORT)\n",
    "    print(\"Database connected successfully\")\n",
    "except Exception as e:\n",
    "    print(f\"Database not connected successfully: {e}\")"
   ]
  },
  {
   "cell_type": "code",
   "execution_count": 5,
   "id": "17f8b775-212b-4e70-8f5b-49ec09ca35f8",
   "metadata": {},
   "outputs": [],
   "source": [
    "cur = conn.cursor()"
   ]
  },
  {
   "cell_type": "code",
   "execution_count": 6,
   "id": "5d7710bd-b0fb-46f2-a554-1f45fee6ae26",
   "metadata": {},
   "outputs": [],
   "source": [
    "def find_max_level(cur):\n",
    "    max_level = 0\n",
    "    level = 1\n",
    "    while True:\n",
    "        code_column = f\"level{level}_code\"\n",
    "        cur.execute(f\"SELECT COUNT(*) FROM qa_mergetest5_position_geo_temp WHERE {code_column} IS NOT NULL\")\n",
    "        count = cur.fetchone()[0]\n",
    "        if count == 0:\n",
    "            break\n",
    "        max_level = level\n",
    "        level += 1\n",
    "    return max_level\n",
    "\n",
    "max_level = find_max_level(cur)"
   ]
  },
  {
   "cell_type": "code",
   "execution_count": 7,
   "id": "bd003a44-1df3-46b9-b0ed-fd109dcd115c",
   "metadata": {},
   "outputs": [],
   "source": [
    "# Fetch distinct metric keys present in the JSON data and store them in a list\n",
    "cur.execute(\"\"\"\n",
    "    SELECT DISTINCT jsonb_object_keys(CAST(metric_data AS jsonb)) AS metric_key\n",
    "    FROM qa_mergetest5_position_geo_temp\n",
    "\"\"\")\n",
    "metric_keys = [row[0] for row in cur.fetchall()]\n",
    "\n",
    "# Prepare metric data items for the SQL query\n",
    "metric_data_items = ', '.join([f\"'{metric_key}', SUM(COALESCE((metric_data::jsonb->>'{metric_key}')::float, 0))\" for metric_key in metric_keys])"
   ]
  },
  {
   "cell_type": "code",
   "execution_count": 8,
   "id": "c22e7211-76d8-4fa3-8d9c-40e3bc92c094",
   "metadata": {},
   "outputs": [],
   "source": [
    "try:\n",
    "    query_parts = []\n",
    "    for level in range(1, max_level + 1):\n",
    "        code_column = f\"level{level}_code\"\n",
    "        code_name = f\"level{level}_name\"\n",
    "        query_parts.append(f\"\"\"\n",
    "            SELECT \n",
    "                {code_column} AS code,\n",
    "                {code_name} AS name,\n",
    "                {level} AS level, \n",
    "                jsonb_build_object(\n",
    "                    {metric_data_items}\n",
    "                ) AS metric_data,\n",
    "                ST_Union(shape) AS shape\n",
    "            FROM qa_mergetest5_position_geo_temp\n",
    "            GROUP BY {code_column}, {code_name}\n",
    "        \"\"\")\n",
    "\n",
    "    combined_query = \" UNION ALL \".join(query_parts)\n",
    "\n",
    "    cur.execute(combined_query)\n",
    "    results = cur.fetchall()\n",
    "\n",
    "    columns = [\"code\", \"name\", \"level\", \"metric_data\", \"shape\"]\n",
    "    df = pd.DataFrame(results, columns=columns)\n",
    "\n",
    "    df[\"metric_data\"] = df[\"metric_data\"].apply(lambda x: json.dumps(x))\n",
    "\n",
    "    # Convert DataFrame to list of tuples\n",
    "    records = df.to_records(index=False)\n",
    "    records_list = [(r[0], r[1], int(r[2]), r[3], r[4]) for r in records]\n",
    "\n",
    "    # Define the insert query\n",
    "    insert_query = \"\"\"\n",
    "        INSERT INTO hg_positions (code, name, level, metric_data, shape)\n",
    "        VALUES (%s, %s, %s, %s, %s)\n",
    "    \"\"\"\n",
    "\n",
    "    # Bulk insert using execute_batch\n",
    "    execute_batch(cur, insert_query, records_list)\n",
    "\n",
    "    # Commit the transaction\n",
    "    conn.commit()\n",
    "\n",
    "except Exception as e:\n",
    "    print(f\"An error occurred: {e}\")\n",
    "\n",
    "finally:\n",
    "    # Close the cursor and the connection\n",
    "    cur.close()\n",
    "    conn.close()"
   ]
  },
  {
   "cell_type": "code",
   "execution_count": 9,
   "id": "c10e4d38-592e-4ef6-8241-eb4d368235f9",
   "metadata": {},
   "outputs": [
    {
     "name": "stdout",
     "output_type": "stream",
     "text": [
      "Script completed in 45.83 seconds\n"
     ]
    }
   ],
   "source": [
    "end_time = time.time()\n",
    "elapsed_time = end_time - start_time\n",
    "print(f\"Script completed in {elapsed_time:.2f} seconds\")"
   ]
  }
 ],
 "metadata": {
  "kernelspec": {
   "display_name": "Python 3 (ipykernel)",
   "language": "python",
   "name": "python3"
  },
  "language_info": {
   "codemirror_mode": {
    "name": "ipython",
    "version": 3
   },
   "file_extension": ".py",
   "mimetype": "text/x-python",
   "name": "python",
   "nbconvert_exporter": "python",
   "pygments_lexer": "ipython3",
   "version": "3.11.7"
  }
 },
 "nbformat": 4,
 "nbformat_minor": 5
}
